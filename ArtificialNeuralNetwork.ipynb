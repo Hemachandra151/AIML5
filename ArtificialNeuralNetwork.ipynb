{
  "nbformat": 4,
  "nbformat_minor": 0,
  "metadata": {
    "colab": {
      "provenance": []
    },
    "kernelspec": {
      "name": "python3",
      "display_name": "Python 3"
    },
    "language_info": {
      "name": "python"
    }
  },
  "cells": [
    {
      "cell_type": "code",
      "execution_count": 87,
      "metadata": {
        "id": "h9OlQ_oFKmUx"
      },
      "outputs": [],
      "source": [
        "import numpy as np\n",
        "import pandas as pd"
      ]
    },
    {
      "cell_type": "markdown",
      "source": [
        "#Dataset"
      ],
      "metadata": {
        "id": "ZhCsvBtlKsyK"
      }
    },
    {
      "cell_type": "code",
      "source": [
        "dat = {'x1':[0,0,1,1], 'x2':[0,1,0,1], 'out':[0,1,1,0]}\n",
        "\n",
        "x = [[0,0],[0,1],[1,0],[1,1]]\n",
        "Y = [0,1,1,0]\n",
        "\n",
        "for v in x:\n",
        "  v.append(1)"
      ],
      "metadata": {
        "id": "bUK8bNE_KrSH"
      },
      "execution_count": 88,
      "outputs": []
    },
    {
      "cell_type": "markdown",
      "source": [
        "#Activation Function"
      ],
      "metadata": {
        "id": "8qsOqd8CLygC"
      }
    },
    {
      "cell_type": "code",
      "source": [
        "def act(x):\n",
        "  if x<0:\n",
        "    return np.exp(x)/(1+np.exp(x))\n",
        "  return 1/(1+np.exp(-x))\n",
        "\n",
        "def fAct(x):\n",
        "  a = act(x)\n",
        "  if a<0.5:\n",
        "    return 0\n",
        "  else:\n",
        "    return 1"
      ],
      "metadata": {
        "id": "AG6Gn_fZL2Y8"
      },
      "execution_count": 89,
      "outputs": []
    },
    {
      "cell_type": "markdown",
      "source": [
        "#Artificial Neural Network"
      ],
      "metadata": {
        "id": "HUV8PandLdg6"
      }
    },
    {
      "cell_type": "code",
      "source": [
        "\n",
        "#Layer 1\n",
        "w1=np.array([0.1,0.3,0.2])\n",
        "w2=np.array([0.2,-0.1,0.1])\n",
        "\n",
        "#Layer 2\n",
        "v1=np.array([0.5,0.3,0.2])\n",
        "\n",
        "iter = 0\n",
        "miter = 1000\n",
        "eta =0.5\n",
        "\n",
        "while iter<miter:\n",
        "  for i,V in enumerate(x):\n",
        "    v = np.array(V)\n",
        "    #Forward Phase\n",
        "    z1 = act(np.dot(v,w1))\n",
        "    z2 = act(np.dot(v,w2))\n",
        "\n",
        "    z = np.array([z1, z2, 1])\n",
        "    y = act(np.dot(z,v1))\n",
        "\n",
        "    #Backward Phase\n",
        "    EAO = (Y[i] - y)*(y*(1-y))\n",
        "    EAH = np.zeros(2)\n",
        "    SEAO = EAO*v1[0]+EAO*v1[1]\n",
        "    EAH[0] = z[0]*(1-z[0])*SEAO\n",
        "    EAH[1] = z[1]*(1-z[0])*SEAO\n",
        "\n",
        "    #Update Output Layer Weights\n",
        "    v1 = v1 + eta*EAO*z\n",
        "\n",
        "    #Update Hidden Layer Weights\n",
        "    w1 = w1 + eta*EAH[0]*v\n",
        "    w2 = w2 + eta*EAH[1]*v\n",
        "  iter+=1\n",
        "\n",
        "\n",
        "def mlp(v):\n",
        "  z1 = act(np.dot(v,w1))\n",
        "  z2 = act(np.dot(v,w2))\n",
        "\n",
        "  z = np.array([z1, z2, 1])\n",
        "\n",
        "  return fAct(np.dot(z,v1))"
      ],
      "metadata": {
        "id": "deeXpBl7LciC"
      },
      "execution_count": 90,
      "outputs": []
    },
    {
      "cell_type": "markdown",
      "source": [
        "#Test Cases"
      ],
      "metadata": {
        "id": "bDaqYJLmNA4h"
      }
    },
    {
      "cell_type": "code",
      "source": [
        "for v in x:\n",
        "  k = mlp(v)\n",
        "  print(f\"{v[0]} xor {v[1]} = {k}\")"
      ],
      "metadata": {
        "colab": {
          "base_uri": "https://localhost:8080/"
        },
        "id": "pchluNlzNEJU",
        "outputId": "bf1396f8-bbc3-473d-8c80-633b89b236ca"
      },
      "execution_count": 91,
      "outputs": [
        {
          "output_type": "stream",
          "name": "stdout",
          "text": [
            "0 xor 0 = 0\n",
            "0 xor 1 = 1\n",
            "1 xor 0 = 1\n",
            "1 xor 1 = 0\n"
          ]
        }
      ]
    }
  ]
}