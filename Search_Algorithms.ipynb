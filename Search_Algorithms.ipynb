{
  "nbformat": 4,
  "nbformat_minor": 0,
  "metadata": {
    "colab": {
      "provenance": []
    },
    "kernelspec": {
      "name": "python3",
      "display_name": "Python 3"
    },
    "language_info": {
      "name": "python"
    }
  },
  "cells": [
    {
      "cell_type": "markdown",
      "source": [
        "#Breadth First Search"
      ],
      "metadata": {
        "id": "ywf7OTzlp8Zl"
      }
    },
    {
      "cell_type": "code",
      "source": [
        "graph={'A':['B','C'],'B':['A','C','D'], 'C':['A','B','E'],'D':['B','E'],'E':['C','D']}\n",
        "path=[]\n",
        "visited=[]\n",
        "\n",
        "def bfs(graph,start):\n",
        "    path.append(start)\n",
        "    while len(path)!=len(graph):\n",
        "        for i in path:\n",
        "            if i not in visited:\n",
        "                for j in graph[i]:\n",
        "                    if j not in path:\n",
        "                        path.append(j)\n",
        "                visited.append(i)\n",
        "bfs(graph,'A')\n",
        "print(path)"
      ],
      "metadata": {
        "colab": {
          "base_uri": "https://localhost:8080/"
        },
        "id": "Hd2Jeg0sqFEX",
        "outputId": "f469b5f9-2232-48f4-d450-85464bc5e643"
      },
      "execution_count": null,
      "outputs": [
        {
          "output_type": "stream",
          "name": "stdout",
          "text": [
            "['A', 'B', 'C', 'D', 'E']\n"
          ]
        }
      ]
    },
    {
      "cell_type": "markdown",
      "source": [
        "#Depth First Search"
      ],
      "metadata": {
        "id": "XAYDtkmzqQ9n"
      }
    },
    {
      "cell_type": "code",
      "source": [
        "graph={'A':['B','C'],'B':['A','C','D'], 'C':['A','B','E'],'D':['B','E'],'E':['C','D']}\n",
        "path=[]\n",
        "def dfs(graph,start):\n",
        "    path.append(start)\n",
        "    if(len(path)!=len(graph)):\n",
        "        for i in graph[start]:\n",
        "            if i not in path:\n",
        "                dfs(graph,i)\n",
        "dfs(graph,'A')\n",
        "print(path)"
      ],
      "metadata": {
        "colab": {
          "base_uri": "https://localhost:8080/"
        },
        "id": "LAd6r7joqUTn",
        "outputId": "c391c9bc-5171-4de9-e9da-fcf387bd0fa4"
      },
      "execution_count": null,
      "outputs": [
        {
          "output_type": "stream",
          "name": "stdout",
          "text": [
            "['A', 'B', 'C', 'E', 'D']\n"
          ]
        }
      ]
    },
    {
      "cell_type": "markdown",
      "source": [
        "#Depth Limiting Search"
      ],
      "metadata": {
        "id": "8QTEfkVzqgys"
      }
    },
    {
      "cell_type": "code",
      "source": [
        "graph={'A':['B','C'],'B':['A','C','D'], 'C':['A','B','E'],'D':['B','E'],'E':['C','D']}\n",
        "visited=[]\n",
        "\n",
        "def dls(graph,source,limit,goal):\n",
        "    lvl=[[]for _ in range(limit+1)]\n",
        "    i=0\n",
        "    lvl[i].append(source)\n",
        "    while i<=limit and goal not in visited:\n",
        "        for source in lvl[i]:\n",
        "            for node in graph[source]:\n",
        "                if node not in visited and node not in lvl[i] and i<limit:\n",
        "                    lvl[i+1].append(node)\n",
        "            visited.append(source)\n",
        "            if goal in visited:\n",
        "                break\n",
        "        i=i+1\n",
        "    if goal in visited:\n",
        "        print(visited)\n",
        "    else:\n",
        "        print(\"DLS failed\")\n",
        "dls(graph,'A',2,'D')"
      ],
      "metadata": {
        "colab": {
          "base_uri": "https://localhost:8080/"
        },
        "id": "FJuEQzVHqmpf",
        "outputId": "a4655307-f493-47e1-87e3-5d00ce9e617b"
      },
      "execution_count": null,
      "outputs": [
        {
          "output_type": "stream",
          "name": "stdout",
          "text": [
            "['A', 'B', 'C', 'D']\n"
          ]
        }
      ]
    },
    {
      "cell_type": "markdown",
      "source": [
        "#Iterative Deepening Search"
      ],
      "metadata": {
        "id": "gXJS2P_nq_Yg"
      }
    },
    {
      "cell_type": "code",
      "source": [
        "graph={'A':['B','C'],'B':['A','C','D'], 'C':['A','B','E'],'D':['B','E'],'E':['C','D']}\n",
        "\n",
        "def dls(graph,source,goal):\n",
        "    limit=0\n",
        "    root=source\n",
        "    while True:\n",
        "        lvl=[[]for _ in range(limit+1)]\n",
        "        visited=[]\n",
        "        i=0\n",
        "        lvl[i].append(source)\n",
        "        while i<=limit and goal not in visited:\n",
        "            for root in lvl[i]:\n",
        "                for node in graph[root]:\n",
        "                    if node not in visited and node not in lvl[i] and i<limit:\n",
        "                        lvl[i+1].append(node)\n",
        "                visited.append(root)\n",
        "                if goal in visited:\n",
        "                    break\n",
        "            i=i+1\n",
        "        if goal in visited:\n",
        "            break\n",
        "        del lvl\n",
        "        del visited\n",
        "        limit=limit+1\n",
        "    if goal in visited:\n",
        "        print(visited)\n",
        "        print(\"At level \", limit)\n",
        "    else:\n",
        "        print(\"DLS failed\")\n",
        "dls(graph,'A','E')"
      ],
      "metadata": {
        "colab": {
          "base_uri": "https://localhost:8080/"
        },
        "id": "tb3F09nBrGUl",
        "outputId": "0ee6fcd6-010e-4369-8a31-c1dfb5a6f534"
      },
      "execution_count": null,
      "outputs": [
        {
          "output_type": "stream",
          "name": "stdout",
          "text": [
            "['A', 'B', 'C', 'D', 'E']\n",
            "At level  2\n"
          ]
        }
      ]
    },
    {
      "cell_type": "markdown",
      "source": [
        "#Uniform Cost Search"
      ],
      "metadata": {
        "id": "nFlX-DqzrgpI"
      }
    },
    {
      "cell_type": "code",
      "source": [
        "key=['A','B','C','D','E','F','G','H','I','J']\n",
        "inf=999\n",
        "graph=[[0,1,4,inf,inf,inf,inf,inf,inf,inf],\n",
        "[1,0,inf,3,2,inf,inf,inf,inf,inf],\n",
        "[4,inf,0,inf,inf,inf,inf,5,inf,inf],\n",
        "[inf,3,inf,0,inf,5,inf,inf,inf,inf],\n",
        "[inf,2,inf,inf,0,inf,4,inf,3,inf],\n",
        "[inf,inf,inf,5,inf,0,inf,inf,inf,5],\n",
        "[inf,inf,inf,inf,4,inf,0,inf,inf,inf],\n",
        "[inf,inf,5,inf,inf,inf,inf,0,inf,inf],\n",
        "[inf,inf,inf,inf,3,inf,inf,inf,0,inf],\n",
        "[inf,inf,inf,inf,inf,5,inf,inf,inf,0]]\n",
        "goal=[key.index('H'),key.index('I'),key.index('J')]\n",
        "path=[]\n",
        "visited=[]\n",
        "\n",
        "def ucs(graph,source):\n",
        "    dynm=[[inf for _ in range(len(key))] for _ in range(len(key))]\n",
        "    for i in range(len(key)):\n",
        "\t    dynm[i][source]=0\n",
        "    i=0\n",
        "    while len(visited)<len(key):\n",
        "        mini=inf-1\n",
        "        for j in range(len(key)):\n",
        "            if dynm[i][j]<=mini and j not in visited:\n",
        "                mini=dynm[i][j]\n",
        "                node=j\n",
        "        for j in range(len(key)):\n",
        "            if graph[node][j]<inf and j not in visited:\n",
        "                for k in range(i,len(key)):\n",
        "                    if graph[node][j]+mini<dynm[k][j]:\n",
        "                        dynm[k][j]=graph[node][j]+mini\n",
        "        if node in goal:\n",
        "            cost=dynm[i][node]\n",
        "            visited.append(node)\n",
        "            break\n",
        "        visited.append(node)\n",
        "        i=i+1\n",
        "    nnode=visited.pop()\n",
        "    path.append(nnode)\n",
        "    for j in range(i-1,-1,-1):\n",
        "        if dynm[j][nnode]==dynm[j-1][nnode] and j>0:\n",
        "            visited.pop()\n",
        "        else:\n",
        "            nnode=visited.pop()\n",
        "            path.append(nnode)\n",
        "    n=len(path)\n",
        "    print(\"The path is\")\n",
        "    for i in range(n):\n",
        "        print(key[path.pop()])\n",
        "    print(\"Cost:\",cost)\n",
        "ucs(graph,0)"
      ],
      "metadata": {
        "colab": {
          "base_uri": "https://localhost:8080/"
        },
        "id": "c_CDJGRyrn2_",
        "outputId": "bbfdf3cf-4805-40bc-e476-7ef2fcc54ad0"
      },
      "execution_count": null,
      "outputs": [
        {
          "output_type": "stream",
          "name": "stdout",
          "text": [
            "The path is\n",
            "A\n",
            "B\n",
            "E\n",
            "I\n",
            "Cost: 6\n"
          ]
        }
      ]
    },
    {
      "cell_type": "markdown",
      "source": [
        "#Best First Search"
      ],
      "metadata": {
        "id": "yOC18z-Jr4gP"
      }
    },
    {
      "cell_type": "code",
      "source": [
        "graph={'S':['A','B','C'],'A':[],'B':['D','H'],'C':[],'D':[],'H':['F','G'],'F':[],'G':['E'],'E':[]}\n",
        "key=['S','A','B','C','D','E','F','G','H']\n",
        "h=[10,9,7,8,8,0,6,3,6]\n",
        "\n",
        "def inclosed(goal,closed):\n",
        "    for points in closed:\n",
        "        if goal==points[0]:\n",
        "            return True\n",
        "    return False\n",
        "\n",
        "def gbfs(graph,source,goal):\n",
        "    opened=[]\n",
        "    closed=[]\n",
        "    opened.append((source,h[key.index(source)]))\n",
        "    root=source\n",
        "    while len(opened)!=0:\n",
        "        for node in graph[opened[0][0]]:\n",
        "            opened.append((node,h[key.index(node)]))\n",
        "        if opened[0][0]!=source:\n",
        "            root=opened.pop(0)\n",
        "            closed.append((root[0],parent))\n",
        "        else:\n",
        "            root=opened.pop(0)\n",
        "            closed.append((root[0],None))\n",
        "        if inclosed(goal,closed):\n",
        "            break\n",
        "        parent=root[0]\n",
        "        opened=sorted(opened, key=lambda x:x[1])\n",
        "    if not inclosed(goal,closed):\n",
        "        print('Best first search failed')\n",
        "    else:\n",
        "        path=[]\n",
        "        k=closed.pop(len(closed)-1)\n",
        "        path.append(k[0])\n",
        "        while inclosed(source,closed):\n",
        "            for tup in closed:\n",
        "                if k[1]==tup[0]:\n",
        "                    k=tup\n",
        "                    closed.remove(tup)\n",
        "                    break\n",
        "            path.append(k[0])\n",
        "        print(path[::-1])\n",
        "gbfs(graph,'S','E')"
      ],
      "metadata": {
        "colab": {
          "base_uri": "https://localhost:8080/"
        },
        "id": "a0HIMZM2sA4v",
        "outputId": "a883e9db-9143-4779-e85a-54b5cea61254"
      },
      "execution_count": null,
      "outputs": [
        {
          "output_type": "stream",
          "name": "stdout",
          "text": [
            "['S', 'B', 'H', 'G', 'E']\n"
          ]
        }
      ]
    },
    {
      "cell_type": "markdown",
      "source": [
        "#A* Algorithm"
      ],
      "metadata": {
        "id": "IQERMQ5HsKwK"
      }
    },
    {
      "cell_type": "code",
      "source": [
        "key=['S','A','B','C','D','E','F','G']\n",
        "inf=999\n",
        "graph=[[0,3,inf,inf,4,inf,inf,inf],\n",
        "[3,0,4,inf,5,inf,inf,inf],\n",
        "[inf,4,0,4,inf,5,inf,inf],\n",
        "[inf,inf,4,0,inf,inf,inf,inf],\n",
        "[4,5,4,inf,0,2,inf,inf],\n",
        "[inf,inf,5,inf,2,0,4,inf],\n",
        "[inf,inf,inf,inf,inf,4,0,3.5],\n",
        "[inf,inf,inf,inf,inf,inf,3.5,0]]\n",
        "h=[11.5,10.1,5.8,3.4,9.2,7.1,3.5,0]\n",
        "goal=[key.index('G')]\n",
        "path=[]\n",
        "visited=[]\n",
        "\n",
        "def astar(graph,source):\n",
        "    dynm=[[inf for _ in range(len(key))] for _ in range(len(key))]\n",
        "    for i in range(len(key)):\n",
        "        dynm[i][source]=0\n",
        "    i=0\n",
        "    while len(visited)<len(key):\n",
        "        mini=inf-1\n",
        "        for j in range(len(key)):\n",
        "            if dynm[i][j]+h[j]<=mini and j not in visited:\n",
        "                mini=dynm[i][j]\n",
        "                node=j\n",
        "        for j in range(len(key)):\n",
        "            if graph[node][j]<inf and j not in visited:\n",
        "                for k in range(i,len(key)):\n",
        "                    if graph[node][j]+mini<dynm[k][j]:\n",
        "                        dynm[k][j]=graph[node][j]+mini\n",
        "        if node in goal:\n",
        "            cost=dynm[i][node]\n",
        "            visited.append(node)\n",
        "            break\n",
        "        visited.append(node)\n",
        "        i=i+1\n",
        "    nnode=visited.pop()\n",
        "    path.append(nnode)\n",
        "    for j in range(i-1,-1,-1):\n",
        "        if dynm[j][nnode]==dynm[j-1][nnode] and j>0:\n",
        "            visited.pop()\n",
        "        else:\n",
        "            nnode=visited.pop()\n",
        "            path.append(nnode)\n",
        "    n=len(path)\n",
        "    print(\"The path is\")\n",
        "    for i in range(n):\n",
        "        print(key[path.pop()])\n",
        "    print(\"Cost:\",cost)\n",
        "astar(graph,0)"
      ],
      "metadata": {
        "colab": {
          "base_uri": "https://localhost:8080/"
        },
        "id": "7fK6A_n8sRio",
        "outputId": "e7287bb2-638b-4f95-fa2e-1356b50023eb"
      },
      "execution_count": null,
      "outputs": [
        {
          "output_type": "stream",
          "name": "stdout",
          "text": [
            "The path is\n",
            "S\n",
            "D\n",
            "E\n",
            "F\n",
            "G\n",
            "Cost: 13.5\n"
          ]
        }
      ]
    }
  ]
}