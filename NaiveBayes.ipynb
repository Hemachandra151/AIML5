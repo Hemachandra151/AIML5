{
  "nbformat": 4,
  "nbformat_minor": 0,
  "metadata": {
    "colab": {
      "provenance": []
    },
    "kernelspec": {
      "name": "python3",
      "display_name": "Python 3"
    },
    "language_info": {
      "name": "python"
    }
  },
  "cells": [
    {
      "cell_type": "code",
      "execution_count": 1,
      "metadata": {
        "colab": {
          "base_uri": "https://localhost:8080/",
          "height": 206
        },
        "id": "GypYBbeAMRpp",
        "outputId": "44c26e27-ffa4-4f9f-e635-7421fda39fa3"
      },
      "outputs": [
        {
          "output_type": "execute_result",
          "data": {
            "text/plain": [
              "   sepal_length  sepal_width  petal_length  petal_width      species\n",
              "0           5.1          3.5           1.4          0.2  Iris-setosa\n",
              "1           4.9          3.0           1.4          0.2  Iris-setosa\n",
              "2           4.7          3.2           1.3          0.2  Iris-setosa\n",
              "3           4.6          3.1           1.5          0.2  Iris-setosa\n",
              "4           5.0          3.6           1.4          0.2  Iris-setosa"
            ],
            "text/html": [
              "\n",
              "  <div id=\"df-703132b2-5f9a-448d-ad99-3aba801ccdb0\" class=\"colab-df-container\">\n",
              "    <div>\n",
              "<style scoped>\n",
              "    .dataframe tbody tr th:only-of-type {\n",
              "        vertical-align: middle;\n",
              "    }\n",
              "\n",
              "    .dataframe tbody tr th {\n",
              "        vertical-align: top;\n",
              "    }\n",
              "\n",
              "    .dataframe thead th {\n",
              "        text-align: right;\n",
              "    }\n",
              "</style>\n",
              "<table border=\"1\" class=\"dataframe\">\n",
              "  <thead>\n",
              "    <tr style=\"text-align: right;\">\n",
              "      <th></th>\n",
              "      <th>sepal_length</th>\n",
              "      <th>sepal_width</th>\n",
              "      <th>petal_length</th>\n",
              "      <th>petal_width</th>\n",
              "      <th>species</th>\n",
              "    </tr>\n",
              "  </thead>\n",
              "  <tbody>\n",
              "    <tr>\n",
              "      <th>0</th>\n",
              "      <td>5.1</td>\n",
              "      <td>3.5</td>\n",
              "      <td>1.4</td>\n",
              "      <td>0.2</td>\n",
              "      <td>Iris-setosa</td>\n",
              "    </tr>\n",
              "    <tr>\n",
              "      <th>1</th>\n",
              "      <td>4.9</td>\n",
              "      <td>3.0</td>\n",
              "      <td>1.4</td>\n",
              "      <td>0.2</td>\n",
              "      <td>Iris-setosa</td>\n",
              "    </tr>\n",
              "    <tr>\n",
              "      <th>2</th>\n",
              "      <td>4.7</td>\n",
              "      <td>3.2</td>\n",
              "      <td>1.3</td>\n",
              "      <td>0.2</td>\n",
              "      <td>Iris-setosa</td>\n",
              "    </tr>\n",
              "    <tr>\n",
              "      <th>3</th>\n",
              "      <td>4.6</td>\n",
              "      <td>3.1</td>\n",
              "      <td>1.5</td>\n",
              "      <td>0.2</td>\n",
              "      <td>Iris-setosa</td>\n",
              "    </tr>\n",
              "    <tr>\n",
              "      <th>4</th>\n",
              "      <td>5.0</td>\n",
              "      <td>3.6</td>\n",
              "      <td>1.4</td>\n",
              "      <td>0.2</td>\n",
              "      <td>Iris-setosa</td>\n",
              "    </tr>\n",
              "  </tbody>\n",
              "</table>\n",
              "</div>\n",
              "    <div class=\"colab-df-buttons\">\n",
              "\n",
              "  <div class=\"colab-df-container\">\n",
              "    <button class=\"colab-df-convert\" onclick=\"convertToInteractive('df-703132b2-5f9a-448d-ad99-3aba801ccdb0')\"\n",
              "            title=\"Convert this dataframe to an interactive table.\"\n",
              "            style=\"display:none;\">\n",
              "\n",
              "  <svg xmlns=\"http://www.w3.org/2000/svg\" height=\"24px\" viewBox=\"0 -960 960 960\">\n",
              "    <path d=\"M120-120v-720h720v720H120Zm60-500h600v-160H180v160Zm220 220h160v-160H400v160Zm0 220h160v-160H400v160ZM180-400h160v-160H180v160Zm440 0h160v-160H620v160ZM180-180h160v-160H180v160Zm440 0h160v-160H620v160Z\"/>\n",
              "  </svg>\n",
              "    </button>\n",
              "\n",
              "  <style>\n",
              "    .colab-df-container {\n",
              "      display:flex;\n",
              "      gap: 12px;\n",
              "    }\n",
              "\n",
              "    .colab-df-convert {\n",
              "      background-color: #E8F0FE;\n",
              "      border: none;\n",
              "      border-radius: 50%;\n",
              "      cursor: pointer;\n",
              "      display: none;\n",
              "      fill: #1967D2;\n",
              "      height: 32px;\n",
              "      padding: 0 0 0 0;\n",
              "      width: 32px;\n",
              "    }\n",
              "\n",
              "    .colab-df-convert:hover {\n",
              "      background-color: #E2EBFA;\n",
              "      box-shadow: 0px 1px 2px rgba(60, 64, 67, 0.3), 0px 1px 3px 1px rgba(60, 64, 67, 0.15);\n",
              "      fill: #174EA6;\n",
              "    }\n",
              "\n",
              "    .colab-df-buttons div {\n",
              "      margin-bottom: 4px;\n",
              "    }\n",
              "\n",
              "    [theme=dark] .colab-df-convert {\n",
              "      background-color: #3B4455;\n",
              "      fill: #D2E3FC;\n",
              "    }\n",
              "\n",
              "    [theme=dark] .colab-df-convert:hover {\n",
              "      background-color: #434B5C;\n",
              "      box-shadow: 0px 1px 3px 1px rgba(0, 0, 0, 0.15);\n",
              "      filter: drop-shadow(0px 1px 2px rgba(0, 0, 0, 0.3));\n",
              "      fill: #FFFFFF;\n",
              "    }\n",
              "  </style>\n",
              "\n",
              "    <script>\n",
              "      const buttonEl =\n",
              "        document.querySelector('#df-703132b2-5f9a-448d-ad99-3aba801ccdb0 button.colab-df-convert');\n",
              "      buttonEl.style.display =\n",
              "        google.colab.kernel.accessAllowed ? 'block' : 'none';\n",
              "\n",
              "      async function convertToInteractive(key) {\n",
              "        const element = document.querySelector('#df-703132b2-5f9a-448d-ad99-3aba801ccdb0');\n",
              "        const dataTable =\n",
              "          await google.colab.kernel.invokeFunction('convertToInteractive',\n",
              "                                                    [key], {});\n",
              "        if (!dataTable) return;\n",
              "\n",
              "        const docLinkHtml = 'Like what you see? Visit the ' +\n",
              "          '<a target=\"_blank\" href=https://colab.research.google.com/notebooks/data_table.ipynb>data table notebook</a>'\n",
              "          + ' to learn more about interactive tables.';\n",
              "        element.innerHTML = '';\n",
              "        dataTable['output_type'] = 'display_data';\n",
              "        await google.colab.output.renderOutput(dataTable, element);\n",
              "        const docLink = document.createElement('div');\n",
              "        docLink.innerHTML = docLinkHtml;\n",
              "        element.appendChild(docLink);\n",
              "      }\n",
              "    </script>\n",
              "  </div>\n",
              "\n",
              "\n",
              "<div id=\"df-131a0f40-2a1c-4140-9a94-781519cc99b2\">\n",
              "  <button class=\"colab-df-quickchart\" onclick=\"quickchart('df-131a0f40-2a1c-4140-9a94-781519cc99b2')\"\n",
              "            title=\"Suggest charts\"\n",
              "            style=\"display:none;\">\n",
              "\n",
              "<svg xmlns=\"http://www.w3.org/2000/svg\" height=\"24px\"viewBox=\"0 0 24 24\"\n",
              "     width=\"24px\">\n",
              "    <g>\n",
              "        <path d=\"M19 3H5c-1.1 0-2 .9-2 2v14c0 1.1.9 2 2 2h14c1.1 0 2-.9 2-2V5c0-1.1-.9-2-2-2zM9 17H7v-7h2v7zm4 0h-2V7h2v10zm4 0h-2v-4h2v4z\"/>\n",
              "    </g>\n",
              "</svg>\n",
              "  </button>\n",
              "\n",
              "<style>\n",
              "  .colab-df-quickchart {\n",
              "      --bg-color: #E8F0FE;\n",
              "      --fill-color: #1967D2;\n",
              "      --hover-bg-color: #E2EBFA;\n",
              "      --hover-fill-color: #174EA6;\n",
              "      --disabled-fill-color: #AAA;\n",
              "      --disabled-bg-color: #DDD;\n",
              "  }\n",
              "\n",
              "  [theme=dark] .colab-df-quickchart {\n",
              "      --bg-color: #3B4455;\n",
              "      --fill-color: #D2E3FC;\n",
              "      --hover-bg-color: #434B5C;\n",
              "      --hover-fill-color: #FFFFFF;\n",
              "      --disabled-bg-color: #3B4455;\n",
              "      --disabled-fill-color: #666;\n",
              "  }\n",
              "\n",
              "  .colab-df-quickchart {\n",
              "    background-color: var(--bg-color);\n",
              "    border: none;\n",
              "    border-radius: 50%;\n",
              "    cursor: pointer;\n",
              "    display: none;\n",
              "    fill: var(--fill-color);\n",
              "    height: 32px;\n",
              "    padding: 0;\n",
              "    width: 32px;\n",
              "  }\n",
              "\n",
              "  .colab-df-quickchart:hover {\n",
              "    background-color: var(--hover-bg-color);\n",
              "    box-shadow: 0 1px 2px rgba(60, 64, 67, 0.3), 0 1px 3px 1px rgba(60, 64, 67, 0.15);\n",
              "    fill: var(--button-hover-fill-color);\n",
              "  }\n",
              "\n",
              "  .colab-df-quickchart-complete:disabled,\n",
              "  .colab-df-quickchart-complete:disabled:hover {\n",
              "    background-color: var(--disabled-bg-color);\n",
              "    fill: var(--disabled-fill-color);\n",
              "    box-shadow: none;\n",
              "  }\n",
              "\n",
              "  .colab-df-spinner {\n",
              "    border: 2px solid var(--fill-color);\n",
              "    border-color: transparent;\n",
              "    border-bottom-color: var(--fill-color);\n",
              "    animation:\n",
              "      spin 1s steps(1) infinite;\n",
              "  }\n",
              "\n",
              "  @keyframes spin {\n",
              "    0% {\n",
              "      border-color: transparent;\n",
              "      border-bottom-color: var(--fill-color);\n",
              "      border-left-color: var(--fill-color);\n",
              "    }\n",
              "    20% {\n",
              "      border-color: transparent;\n",
              "      border-left-color: var(--fill-color);\n",
              "      border-top-color: var(--fill-color);\n",
              "    }\n",
              "    30% {\n",
              "      border-color: transparent;\n",
              "      border-left-color: var(--fill-color);\n",
              "      border-top-color: var(--fill-color);\n",
              "      border-right-color: var(--fill-color);\n",
              "    }\n",
              "    40% {\n",
              "      border-color: transparent;\n",
              "      border-right-color: var(--fill-color);\n",
              "      border-top-color: var(--fill-color);\n",
              "    }\n",
              "    60% {\n",
              "      border-color: transparent;\n",
              "      border-right-color: var(--fill-color);\n",
              "    }\n",
              "    80% {\n",
              "      border-color: transparent;\n",
              "      border-right-color: var(--fill-color);\n",
              "      border-bottom-color: var(--fill-color);\n",
              "    }\n",
              "    90% {\n",
              "      border-color: transparent;\n",
              "      border-bottom-color: var(--fill-color);\n",
              "    }\n",
              "  }\n",
              "</style>\n",
              "\n",
              "  <script>\n",
              "    async function quickchart(key) {\n",
              "      const quickchartButtonEl =\n",
              "        document.querySelector('#' + key + ' button');\n",
              "      quickchartButtonEl.disabled = true;  // To prevent multiple clicks.\n",
              "      quickchartButtonEl.classList.add('colab-df-spinner');\n",
              "      try {\n",
              "        const charts = await google.colab.kernel.invokeFunction(\n",
              "            'suggestCharts', [key], {});\n",
              "      } catch (error) {\n",
              "        console.error('Error during call to suggestCharts:', error);\n",
              "      }\n",
              "      quickchartButtonEl.classList.remove('colab-df-spinner');\n",
              "      quickchartButtonEl.classList.add('colab-df-quickchart-complete');\n",
              "    }\n",
              "    (() => {\n",
              "      let quickchartButtonEl =\n",
              "        document.querySelector('#df-131a0f40-2a1c-4140-9a94-781519cc99b2 button');\n",
              "      quickchartButtonEl.style.display =\n",
              "        google.colab.kernel.accessAllowed ? 'block' : 'none';\n",
              "    })();\n",
              "  </script>\n",
              "</div>\n",
              "\n",
              "    </div>\n",
              "  </div>\n"
            ]
          },
          "metadata": {},
          "execution_count": 1
        }
      ],
      "source": [
        "import pandas as pd\n",
        "import numpy as np\n",
        "data=pd.read_csv(\"https://github.com/YBI-Foundation/Dataset/raw/main/IRIS.csv\")\n",
        "data.head()"
      ]
    },
    {
      "cell_type": "code",
      "source": [
        "data.info()"
      ],
      "metadata": {
        "colab": {
          "base_uri": "https://localhost:8080/"
        },
        "id": "O2fKtr_4NmRE",
        "outputId": "c02df78f-72d3-4b47-da9a-5bda468bc719"
      },
      "execution_count": 2,
      "outputs": [
        {
          "output_type": "stream",
          "name": "stdout",
          "text": [
            "<class 'pandas.core.frame.DataFrame'>\n",
            "RangeIndex: 150 entries, 0 to 149\n",
            "Data columns (total 5 columns):\n",
            " #   Column        Non-Null Count  Dtype  \n",
            "---  ------        --------------  -----  \n",
            " 0   sepal_length  150 non-null    float64\n",
            " 1   sepal_width   150 non-null    float64\n",
            " 2   petal_length  150 non-null    float64\n",
            " 3   petal_width   150 non-null    float64\n",
            " 4   species       150 non-null    object \n",
            "dtypes: float64(4), object(1)\n",
            "memory usage: 6.0+ KB\n"
          ]
        }
      ]
    },
    {
      "cell_type": "code",
      "source": [
        "data.describe()"
      ],
      "metadata": {
        "colab": {
          "base_uri": "https://localhost:8080/",
          "height": 300
        },
        "id": "1WtgeWU2Nvl8",
        "outputId": "0f9d898b-9b5b-4086-9274-674bd60b052b"
      },
      "execution_count": 3,
      "outputs": [
        {
          "output_type": "execute_result",
          "data": {
            "text/plain": [
              "       sepal_length  sepal_width  petal_length  petal_width\n",
              "count    150.000000   150.000000    150.000000   150.000000\n",
              "mean       5.843333     3.054000      3.758667     1.198667\n",
              "std        0.828066     0.433594      1.764420     0.763161\n",
              "min        4.300000     2.000000      1.000000     0.100000\n",
              "25%        5.100000     2.800000      1.600000     0.300000\n",
              "50%        5.800000     3.000000      4.350000     1.300000\n",
              "75%        6.400000     3.300000      5.100000     1.800000\n",
              "max        7.900000     4.400000      6.900000     2.500000"
            ],
            "text/html": [
              "\n",
              "  <div id=\"df-74a5a18f-19e7-45ba-b5fa-84e05b0c5622\" class=\"colab-df-container\">\n",
              "    <div>\n",
              "<style scoped>\n",
              "    .dataframe tbody tr th:only-of-type {\n",
              "        vertical-align: middle;\n",
              "    }\n",
              "\n",
              "    .dataframe tbody tr th {\n",
              "        vertical-align: top;\n",
              "    }\n",
              "\n",
              "    .dataframe thead th {\n",
              "        text-align: right;\n",
              "    }\n",
              "</style>\n",
              "<table border=\"1\" class=\"dataframe\">\n",
              "  <thead>\n",
              "    <tr style=\"text-align: right;\">\n",
              "      <th></th>\n",
              "      <th>sepal_length</th>\n",
              "      <th>sepal_width</th>\n",
              "      <th>petal_length</th>\n",
              "      <th>petal_width</th>\n",
              "    </tr>\n",
              "  </thead>\n",
              "  <tbody>\n",
              "    <tr>\n",
              "      <th>count</th>\n",
              "      <td>150.000000</td>\n",
              "      <td>150.000000</td>\n",
              "      <td>150.000000</td>\n",
              "      <td>150.000000</td>\n",
              "    </tr>\n",
              "    <tr>\n",
              "      <th>mean</th>\n",
              "      <td>5.843333</td>\n",
              "      <td>3.054000</td>\n",
              "      <td>3.758667</td>\n",
              "      <td>1.198667</td>\n",
              "    </tr>\n",
              "    <tr>\n",
              "      <th>std</th>\n",
              "      <td>0.828066</td>\n",
              "      <td>0.433594</td>\n",
              "      <td>1.764420</td>\n",
              "      <td>0.763161</td>\n",
              "    </tr>\n",
              "    <tr>\n",
              "      <th>min</th>\n",
              "      <td>4.300000</td>\n",
              "      <td>2.000000</td>\n",
              "      <td>1.000000</td>\n",
              "      <td>0.100000</td>\n",
              "    </tr>\n",
              "    <tr>\n",
              "      <th>25%</th>\n",
              "      <td>5.100000</td>\n",
              "      <td>2.800000</td>\n",
              "      <td>1.600000</td>\n",
              "      <td>0.300000</td>\n",
              "    </tr>\n",
              "    <tr>\n",
              "      <th>50%</th>\n",
              "      <td>5.800000</td>\n",
              "      <td>3.000000</td>\n",
              "      <td>4.350000</td>\n",
              "      <td>1.300000</td>\n",
              "    </tr>\n",
              "    <tr>\n",
              "      <th>75%</th>\n",
              "      <td>6.400000</td>\n",
              "      <td>3.300000</td>\n",
              "      <td>5.100000</td>\n",
              "      <td>1.800000</td>\n",
              "    </tr>\n",
              "    <tr>\n",
              "      <th>max</th>\n",
              "      <td>7.900000</td>\n",
              "      <td>4.400000</td>\n",
              "      <td>6.900000</td>\n",
              "      <td>2.500000</td>\n",
              "    </tr>\n",
              "  </tbody>\n",
              "</table>\n",
              "</div>\n",
              "    <div class=\"colab-df-buttons\">\n",
              "\n",
              "  <div class=\"colab-df-container\">\n",
              "    <button class=\"colab-df-convert\" onclick=\"convertToInteractive('df-74a5a18f-19e7-45ba-b5fa-84e05b0c5622')\"\n",
              "            title=\"Convert this dataframe to an interactive table.\"\n",
              "            style=\"display:none;\">\n",
              "\n",
              "  <svg xmlns=\"http://www.w3.org/2000/svg\" height=\"24px\" viewBox=\"0 -960 960 960\">\n",
              "    <path d=\"M120-120v-720h720v720H120Zm60-500h600v-160H180v160Zm220 220h160v-160H400v160Zm0 220h160v-160H400v160ZM180-400h160v-160H180v160Zm440 0h160v-160H620v160ZM180-180h160v-160H180v160Zm440 0h160v-160H620v160Z\"/>\n",
              "  </svg>\n",
              "    </button>\n",
              "\n",
              "  <style>\n",
              "    .colab-df-container {\n",
              "      display:flex;\n",
              "      gap: 12px;\n",
              "    }\n",
              "\n",
              "    .colab-df-convert {\n",
              "      background-color: #E8F0FE;\n",
              "      border: none;\n",
              "      border-radius: 50%;\n",
              "      cursor: pointer;\n",
              "      display: none;\n",
              "      fill: #1967D2;\n",
              "      height: 32px;\n",
              "      padding: 0 0 0 0;\n",
              "      width: 32px;\n",
              "    }\n",
              "\n",
              "    .colab-df-convert:hover {\n",
              "      background-color: #E2EBFA;\n",
              "      box-shadow: 0px 1px 2px rgba(60, 64, 67, 0.3), 0px 1px 3px 1px rgba(60, 64, 67, 0.15);\n",
              "      fill: #174EA6;\n",
              "    }\n",
              "\n",
              "    .colab-df-buttons div {\n",
              "      margin-bottom: 4px;\n",
              "    }\n",
              "\n",
              "    [theme=dark] .colab-df-convert {\n",
              "      background-color: #3B4455;\n",
              "      fill: #D2E3FC;\n",
              "    }\n",
              "\n",
              "    [theme=dark] .colab-df-convert:hover {\n",
              "      background-color: #434B5C;\n",
              "      box-shadow: 0px 1px 3px 1px rgba(0, 0, 0, 0.15);\n",
              "      filter: drop-shadow(0px 1px 2px rgba(0, 0, 0, 0.3));\n",
              "      fill: #FFFFFF;\n",
              "    }\n",
              "  </style>\n",
              "\n",
              "    <script>\n",
              "      const buttonEl =\n",
              "        document.querySelector('#df-74a5a18f-19e7-45ba-b5fa-84e05b0c5622 button.colab-df-convert');\n",
              "      buttonEl.style.display =\n",
              "        google.colab.kernel.accessAllowed ? 'block' : 'none';\n",
              "\n",
              "      async function convertToInteractive(key) {\n",
              "        const element = document.querySelector('#df-74a5a18f-19e7-45ba-b5fa-84e05b0c5622');\n",
              "        const dataTable =\n",
              "          await google.colab.kernel.invokeFunction('convertToInteractive',\n",
              "                                                    [key], {});\n",
              "        if (!dataTable) return;\n",
              "\n",
              "        const docLinkHtml = 'Like what you see? Visit the ' +\n",
              "          '<a target=\"_blank\" href=https://colab.research.google.com/notebooks/data_table.ipynb>data table notebook</a>'\n",
              "          + ' to learn more about interactive tables.';\n",
              "        element.innerHTML = '';\n",
              "        dataTable['output_type'] = 'display_data';\n",
              "        await google.colab.output.renderOutput(dataTable, element);\n",
              "        const docLink = document.createElement('div');\n",
              "        docLink.innerHTML = docLinkHtml;\n",
              "        element.appendChild(docLink);\n",
              "      }\n",
              "    </script>\n",
              "  </div>\n",
              "\n",
              "\n",
              "<div id=\"df-0f78097e-ba2e-49d8-be9b-56dc95af2918\">\n",
              "  <button class=\"colab-df-quickchart\" onclick=\"quickchart('df-0f78097e-ba2e-49d8-be9b-56dc95af2918')\"\n",
              "            title=\"Suggest charts\"\n",
              "            style=\"display:none;\">\n",
              "\n",
              "<svg xmlns=\"http://www.w3.org/2000/svg\" height=\"24px\"viewBox=\"0 0 24 24\"\n",
              "     width=\"24px\">\n",
              "    <g>\n",
              "        <path d=\"M19 3H5c-1.1 0-2 .9-2 2v14c0 1.1.9 2 2 2h14c1.1 0 2-.9 2-2V5c0-1.1-.9-2-2-2zM9 17H7v-7h2v7zm4 0h-2V7h2v10zm4 0h-2v-4h2v4z\"/>\n",
              "    </g>\n",
              "</svg>\n",
              "  </button>\n",
              "\n",
              "<style>\n",
              "  .colab-df-quickchart {\n",
              "      --bg-color: #E8F0FE;\n",
              "      --fill-color: #1967D2;\n",
              "      --hover-bg-color: #E2EBFA;\n",
              "      --hover-fill-color: #174EA6;\n",
              "      --disabled-fill-color: #AAA;\n",
              "      --disabled-bg-color: #DDD;\n",
              "  }\n",
              "\n",
              "  [theme=dark] .colab-df-quickchart {\n",
              "      --bg-color: #3B4455;\n",
              "      --fill-color: #D2E3FC;\n",
              "      --hover-bg-color: #434B5C;\n",
              "      --hover-fill-color: #FFFFFF;\n",
              "      --disabled-bg-color: #3B4455;\n",
              "      --disabled-fill-color: #666;\n",
              "  }\n",
              "\n",
              "  .colab-df-quickchart {\n",
              "    background-color: var(--bg-color);\n",
              "    border: none;\n",
              "    border-radius: 50%;\n",
              "    cursor: pointer;\n",
              "    display: none;\n",
              "    fill: var(--fill-color);\n",
              "    height: 32px;\n",
              "    padding: 0;\n",
              "    width: 32px;\n",
              "  }\n",
              "\n",
              "  .colab-df-quickchart:hover {\n",
              "    background-color: var(--hover-bg-color);\n",
              "    box-shadow: 0 1px 2px rgba(60, 64, 67, 0.3), 0 1px 3px 1px rgba(60, 64, 67, 0.15);\n",
              "    fill: var(--button-hover-fill-color);\n",
              "  }\n",
              "\n",
              "  .colab-df-quickchart-complete:disabled,\n",
              "  .colab-df-quickchart-complete:disabled:hover {\n",
              "    background-color: var(--disabled-bg-color);\n",
              "    fill: var(--disabled-fill-color);\n",
              "    box-shadow: none;\n",
              "  }\n",
              "\n",
              "  .colab-df-spinner {\n",
              "    border: 2px solid var(--fill-color);\n",
              "    border-color: transparent;\n",
              "    border-bottom-color: var(--fill-color);\n",
              "    animation:\n",
              "      spin 1s steps(1) infinite;\n",
              "  }\n",
              "\n",
              "  @keyframes spin {\n",
              "    0% {\n",
              "      border-color: transparent;\n",
              "      border-bottom-color: var(--fill-color);\n",
              "      border-left-color: var(--fill-color);\n",
              "    }\n",
              "    20% {\n",
              "      border-color: transparent;\n",
              "      border-left-color: var(--fill-color);\n",
              "      border-top-color: var(--fill-color);\n",
              "    }\n",
              "    30% {\n",
              "      border-color: transparent;\n",
              "      border-left-color: var(--fill-color);\n",
              "      border-top-color: var(--fill-color);\n",
              "      border-right-color: var(--fill-color);\n",
              "    }\n",
              "    40% {\n",
              "      border-color: transparent;\n",
              "      border-right-color: var(--fill-color);\n",
              "      border-top-color: var(--fill-color);\n",
              "    }\n",
              "    60% {\n",
              "      border-color: transparent;\n",
              "      border-right-color: var(--fill-color);\n",
              "    }\n",
              "    80% {\n",
              "      border-color: transparent;\n",
              "      border-right-color: var(--fill-color);\n",
              "      border-bottom-color: var(--fill-color);\n",
              "    }\n",
              "    90% {\n",
              "      border-color: transparent;\n",
              "      border-bottom-color: var(--fill-color);\n",
              "    }\n",
              "  }\n",
              "</style>\n",
              "\n",
              "  <script>\n",
              "    async function quickchart(key) {\n",
              "      const quickchartButtonEl =\n",
              "        document.querySelector('#' + key + ' button');\n",
              "      quickchartButtonEl.disabled = true;  // To prevent multiple clicks.\n",
              "      quickchartButtonEl.classList.add('colab-df-spinner');\n",
              "      try {\n",
              "        const charts = await google.colab.kernel.invokeFunction(\n",
              "            'suggestCharts', [key], {});\n",
              "      } catch (error) {\n",
              "        console.error('Error during call to suggestCharts:', error);\n",
              "      }\n",
              "      quickchartButtonEl.classList.remove('colab-df-spinner');\n",
              "      quickchartButtonEl.classList.add('colab-df-quickchart-complete');\n",
              "    }\n",
              "    (() => {\n",
              "      let quickchartButtonEl =\n",
              "        document.querySelector('#df-0f78097e-ba2e-49d8-be9b-56dc95af2918 button');\n",
              "      quickchartButtonEl.style.display =\n",
              "        google.colab.kernel.accessAllowed ? 'block' : 'none';\n",
              "    })();\n",
              "  </script>\n",
              "</div>\n",
              "\n",
              "    </div>\n",
              "  </div>\n"
            ]
          },
          "metadata": {},
          "execution_count": 3
        }
      ]
    },
    {
      "cell_type": "code",
      "source": [
        "data.columns"
      ],
      "metadata": {
        "colab": {
          "base_uri": "https://localhost:8080/"
        },
        "id": "2L-yELJRN5Ek",
        "outputId": "e8cf222e-68de-45aa-b7ba-e6d66d1b793f"
      },
      "execution_count": 4,
      "outputs": [
        {
          "output_type": "execute_result",
          "data": {
            "text/plain": [
              "Index(['sepal_length', 'sepal_width', 'petal_length', 'petal_width',\n",
              "       'species'],\n",
              "      dtype='object')"
            ]
          },
          "metadata": {},
          "execution_count": 4
        }
      ]
    },
    {
      "cell_type": "code",
      "source": [
        "key=['Iris-setosa','Iris-versicolor','Iris-virginica']\n",
        "val=np.zeros(3)"
      ],
      "metadata": {
        "id": "NWDSkDxXPzCl"
      },
      "execution_count": 5,
      "outputs": []
    },
    {
      "cell_type": "markdown",
      "source": [
        "#Train Test split"
      ],
      "metadata": {
        "id": "IlbGFml3tIEq"
      }
    },
    {
      "cell_type": "code",
      "source": [
        "from sklearn.model_selection import train_test_split\n",
        "x,tx=train_test_split(data,random_state=2529)"
      ],
      "metadata": {
        "id": "I-QIZVXqtLjy"
      },
      "execution_count": 6,
      "outputs": []
    },
    {
      "cell_type": "markdown",
      "source": [
        "#Frequency Table for sepal length"
      ],
      "metadata": {
        "id": "Lr7-hwRwdZeg"
      }
    },
    {
      "cell_type": "code",
      "source": [
        "frt1={'Range':[],'Iris-setosa':[],'Iris-versicolor':[],'Iris-virginica':[]}"
      ],
      "metadata": {
        "id": "dUE_Kj-qYKWb"
      },
      "execution_count": 7,
      "outputs": []
    },
    {
      "cell_type": "code",
      "source": [
        "start=4\n",
        "mark=4.5\n",
        "while mark<8.5:\n",
        "  filt = x[(x['sepal_length'] >=start) & (x['sepal_length'] < mark)]\n",
        "  frt1['Range'].append((start,mark))\n",
        "  farm=filt['species'].tolist()\n",
        "  for sti in farm:\n",
        "    j=key.index(sti)\n",
        "    val[j]+=1\n",
        "  frt1['Iris-setosa'].append(val[0])\n",
        "  frt1['Iris-versicolor'].append(val[1])\n",
        "  frt1['Iris-virginica'].append(val[2])\n",
        "  val[0]=0\n",
        "  val[1]=0\n",
        "  val[2]=0\n",
        "  start+=0.5\n",
        "  mark+=0.5\n",
        "frt1"
      ],
      "metadata": {
        "colab": {
          "base_uri": "https://localhost:8080/"
        },
        "id": "fisD4Fe-kQEz",
        "outputId": "f4440351-dd2f-420d-a4eb-aff0067b402d"
      },
      "execution_count": 8,
      "outputs": [
        {
          "output_type": "execute_result",
          "data": {
            "text/plain": [
              "{'Range': [(4, 4.5),\n",
              "  (4.5, 5.0),\n",
              "  (5.0, 5.5),\n",
              "  (5.5, 6.0),\n",
              "  (6.0, 6.5),\n",
              "  (6.5, 7.0),\n",
              "  (7.0, 7.5),\n",
              "  (7.5, 8.0)],\n",
              " 'Iris-setosa': [4.0, 11.0, 18.0, 4.0, 0.0, 0.0, 0.0, 0.0],\n",
              " 'Iris-versicolor': [0.0, 1.0, 5.0, 17.0, 13.0, 7.0, 1.0, 0.0],\n",
              " 'Iris-virginica': [0.0, 1.0, 0.0, 2.0, 12.0, 10.0, 3.0, 3.0]}"
            ]
          },
          "metadata": {},
          "execution_count": 8
        }
      ]
    },
    {
      "cell_type": "markdown",
      "source": [
        "#Frequency Table for sepal width"
      ],
      "metadata": {
        "id": "H0J2fq2vdg9X"
      }
    },
    {
      "cell_type": "code",
      "source": [
        "frt2={'Range':[],'Iris-setosa':[],'Iris-versicolor':[],'Iris-virginica':[]}"
      ],
      "metadata": {
        "id": "Fkry4uUMdlPC"
      },
      "execution_count": 9,
      "outputs": []
    },
    {
      "cell_type": "code",
      "source": [
        "start=2\n",
        "mark=2.5\n",
        "while mark<4.5:\n",
        "  filt = x[(x['sepal_width'] >=start) & (x['sepal_width'] < mark)]\n",
        "  frt2['Range'].append((start,mark))\n",
        "  farm=filt['species'].tolist()\n",
        "  for sti in farm:\n",
        "    j=key.index(sti)\n",
        "    val[j]+=1\n",
        "  frt2['Iris-setosa'].append(val[0])\n",
        "  frt2['Iris-versicolor'].append(val[1])\n",
        "  frt2['Iris-virginica'].append(val[2])\n",
        "  val[0]=0\n",
        "  val[1]=0\n",
        "  val[2]=0\n",
        "  start+=0.5\n",
        "  mark+=0.5\n",
        "frt2"
      ],
      "metadata": {
        "colab": {
          "base_uri": "https://localhost:8080/"
        },
        "id": "xqqvSGLed9qn",
        "outputId": "8fa5df24-3fb3-481a-e430-f7f5a64417b4"
      },
      "execution_count": 10,
      "outputs": [
        {
          "output_type": "execute_result",
          "data": {
            "text/plain": [
              "{'Range': [(2, 2.5), (2.5, 3.0), (3.0, 3.5), (3.5, 4.0)],\n",
              " 'Iris-setosa': [1.0, 1.0, 19.0, 13.0],\n",
              " 'Iris-versicolor': [8.0, 23.0, 13.0, 0.0],\n",
              " 'Iris-virginica': [1.0, 12.0, 16.0, 2.0]}"
            ]
          },
          "metadata": {},
          "execution_count": 10
        }
      ]
    },
    {
      "cell_type": "markdown",
      "source": [
        "#Frequency Table of petal length"
      ],
      "metadata": {
        "id": "UQNID7wNhx0g"
      }
    },
    {
      "cell_type": "code",
      "source": [
        "frt3={'Range':[],'Iris-setosa':[],'Iris-versicolor':[],'Iris-virginica':[]}"
      ],
      "metadata": {
        "id": "2sx-FFtPh3-y"
      },
      "execution_count": 11,
      "outputs": []
    },
    {
      "cell_type": "code",
      "source": [
        "start=1\n",
        "mark=1.5\n",
        "while mark<7:\n",
        "  filt = x[(x['petal_length'] >=start) & (x['petal_length'] < mark)]\n",
        "  frt3['Range'].append((start,mark))\n",
        "  farm=filt['species'].tolist()\n",
        "  for sti in farm:\n",
        "    j=key.index(sti)\n",
        "    val[j]+=1\n",
        "  frt3['Iris-setosa'].append(val[0])\n",
        "  frt3['Iris-versicolor'].append(val[1])\n",
        "  frt3['Iris-virginica'].append(val[2])\n",
        "  val[0]=0\n",
        "  val[1]=0\n",
        "  val[2]=0\n",
        "  start+=0.5\n",
        "  mark+=0.5\n",
        "frt3"
      ],
      "metadata": {
        "colab": {
          "base_uri": "https://localhost:8080/"
        },
        "id": "K1fMcQZnh8Eg",
        "outputId": "c5ec541c-3244-4582-ef2a-65a6bb5128f1"
      },
      "execution_count": 12,
      "outputs": [
        {
          "output_type": "execute_result",
          "data": {
            "text/plain": [
              "{'Range': [(1, 1.5),\n",
              "  (1.5, 2.0),\n",
              "  (2.0, 2.5),\n",
              "  (2.5, 3.0),\n",
              "  (3.0, 3.5),\n",
              "  (3.5, 4.0),\n",
              "  (4.0, 4.5),\n",
              "  (4.5, 5.0),\n",
              "  (5.0, 5.5),\n",
              "  (5.5, 6.0),\n",
              "  (6.0, 6.5)],\n",
              " 'Iris-setosa': [18.0, 19.0, 0.0, 0.0, 0.0, 0.0, 0.0, 0.0, 0.0, 0.0, 0.0],\n",
              " 'Iris-versicolor': [0.0, 0.0, 0.0, 0.0, 3.0, 7.0, 16.0, 16.0, 2.0, 0.0, 0.0],\n",
              " 'Iris-virginica': [0.0, 0.0, 0.0, 0.0, 0.0, 0.0, 0.0, 4.0, 10.0, 12.0, 3.0]}"
            ]
          },
          "metadata": {},
          "execution_count": 12
        }
      ]
    },
    {
      "cell_type": "markdown",
      "source": [
        "#Frequency Table of petal width"
      ],
      "metadata": {
        "id": "L0k49b-EjGyw"
      }
    },
    {
      "cell_type": "code",
      "source": [
        "frt4={'Range':[],'Iris-setosa':[],'Iris-versicolor':[],'Iris-virginica':[]}"
      ],
      "metadata": {
        "id": "zl8P_wBYjMXF"
      },
      "execution_count": 13,
      "outputs": []
    },
    {
      "cell_type": "code",
      "source": [
        "start=0\n",
        "mark=0.5\n",
        "while mark<3:\n",
        "  filt = x[(x['petal_width'] >=start) & (x['petal_width'] < mark)]\n",
        "  frt4['Range'].append((start,mark))\n",
        "  farm=filt['species'].tolist()\n",
        "  for sti in farm:\n",
        "    j=key.index(sti)\n",
        "    val[j]+=1\n",
        "  frt4['Iris-setosa'].append(val[0])\n",
        "  frt4['Iris-versicolor'].append(val[1])\n",
        "  frt4['Iris-virginica'].append(val[2])\n",
        "  val[0]=0\n",
        "  val[1]=0\n",
        "  val[2]=0\n",
        "  start+=0.5\n",
        "  mark+=0.5\n",
        "frt4"
      ],
      "metadata": {
        "colab": {
          "base_uri": "https://localhost:8080/"
        },
        "id": "CJhsmEfhjXQM",
        "outputId": "ddd948d7-6e0e-4a32-d3f0-cca7627d1859"
      },
      "execution_count": 14,
      "outputs": [
        {
          "output_type": "execute_result",
          "data": {
            "text/plain": [
              "{'Range': [(0, 0.5), (0.5, 1.0), (1.0, 1.5), (1.5, 2.0), (2.0, 2.5)],\n",
              " 'Iris-setosa': [36.0, 1.0, 0.0, 0.0, 0.0],\n",
              " 'Iris-versicolor': [0.0, 0.0, 30.0, 14.0, 0.0],\n",
              " 'Iris-virginica': [0.0, 0.0, 0.0, 15.0, 15.0]}"
            ]
          },
          "metadata": {},
          "execution_count": 14
        }
      ]
    },
    {
      "cell_type": "markdown",
      "source": [
        "#Naive Bayes Classifier"
      ],
      "metadata": {
        "id": "ROE37yEuld1V"
      }
    },
    {
      "cell_type": "code",
      "source": [
        "def nbc(sl,sw,pl,pw):\n",
        "  p_seto=(sum(frt1['Iris-setosa'])+sum(frt2['Iris-setosa'])+sum(frt3['Iris-setosa'])+sum(frt4['Iris-setosa']))/150\n",
        "  p_vers=(sum(frt1['Iris-versicolor'])+sum(frt2['Iris-versicolor'])+sum(frt3['Iris-versicolor'])+sum(frt4['Iris-versicolor']))/150\n",
        "  p_virg=(sum(frt1['Iris-virginica'])+sum(frt2['Iris-virginica'])+sum(frt3['Iris-virginica'])+sum(frt4['Iris-virginica']))/150\n",
        "\n",
        "  for t in frt1['Range']:\n",
        "    if sl>=t[0] and sl<t[1]:\n",
        "      break\n",
        "  ind = frt1['Range'].index(t)\n",
        "  p_sl_se=frt1['Iris-setosa'][ind]/sum(frt1['Iris-setosa'])\n",
        "  p_sl_ve=frt1['Iris-versicolor'][ind]/sum(frt1['Iris-versicolor'])\n",
        "  p_sl_vi=frt1['Iris-virginica'][ind]/sum(frt1['Iris-virginica'])\n",
        "\n",
        "  for t in frt2['Range']:\n",
        "    if sw>=t[0] and sw<t[1]:\n",
        "      break\n",
        "  ind = frt2['Range'].index(t)\n",
        "  p_sw_se=frt2['Iris-setosa'][ind]/sum(frt2['Iris-setosa'])\n",
        "  p_sw_ve=frt2['Iris-versicolor'][ind]/sum(frt2['Iris-versicolor'])\n",
        "  p_sw_vi=frt2['Iris-virginica'][ind]/sum(frt2['Iris-virginica'])\n",
        "\n",
        "  for t in frt3['Range']:\n",
        "    if pl>=t[0] and pl<t[1]:\n",
        "      break\n",
        "  ind = frt3['Range'].index(t)\n",
        "  p_pl_se=frt3['Iris-setosa'][ind]/sum(frt3['Iris-setosa'])\n",
        "  p_pl_ve=frt3['Iris-versicolor'][ind]/sum(frt3['Iris-versicolor'])\n",
        "  p_pl_vi=frt3['Iris-virginica'][ind]/sum(frt3['Iris-virginica'])\n",
        "\n",
        "  for t in frt4['Range']:\n",
        "    if pw>=t[0] and pw<t[1]:\n",
        "      break\n",
        "  ind = frt4['Range'].index(t)\n",
        "  p_pw_se=frt4['Iris-setosa'][ind]/sum(frt4['Iris-setosa'])\n",
        "  p_pw_ve=frt4['Iris-versicolor'][ind]/sum(frt4['Iris-versicolor'])\n",
        "  p_pw_vi=frt4['Iris-virginica'][ind]/sum(frt4['Iris-virginica'])\n",
        "\n",
        "  prob=np.zeros(3)\n",
        "  prob[0]=p_seto*p_sl_se*p_sw_se*p_pl_se*p_pw_se\n",
        "  prob[1]=p_vers*p_sl_ve*p_sw_ve*p_pl_ve*p_pw_ve\n",
        "  prob[2]=p_virg*p_sl_vi*p_sw_vi*p_pl_vi*p_pw_vi\n",
        "\n",
        "  nb=np.argmax(prob)\n",
        "  return key[nb]"
      ],
      "metadata": {
        "id": "hUOfhURaljDv"
      },
      "execution_count": 15,
      "outputs": []
    },
    {
      "cell_type": "markdown",
      "source": [
        "#Testing the model"
      ],
      "metadata": {
        "id": "LrS1sxMvuPLa"
      }
    },
    {
      "cell_type": "code",
      "source": [
        "N=len(tx)\n",
        "sofa=tx.values.tolist()\n",
        "conf = np.zeros((3,3))\n",
        "for i in range(N):\n",
        "  prd=nbc(sofa[i][0],sofa[i][1],sofa[i][2],sofa[i][3])\n",
        "  if prd=='Iris-setosa':\n",
        "    if sofa[i][4]=='Iris-setosa':\n",
        "      conf[0][0]+=1\n",
        "    if sofa[i][4]=='Iris-versicolor':\n",
        "      conf[0][1]+=1\n",
        "    if sofa[i][4]=='Iris-virginica':\n",
        "      conf[0][2]+=1\n",
        "  elif prd=='Iris-versicolor':\n",
        "    if sofa[i][4]=='Iris-setosa':\n",
        "      conf[1][0]+=1\n",
        "    if sofa[i][4]=='Iris-versicolor':\n",
        "      conf[1][1]+=1\n",
        "    if sofa[i][4]=='Iris-virginica':\n",
        "      conf[1][2]+=1\n",
        "  elif prd=='Iris-virginica':\n",
        "    if sofa[i][4]=='Iris-setosa':\n",
        "      conf[2][0]+=1\n",
        "    if sofa[i][4]=='Iris-versicolor':\n",
        "      conf[2][1]+=1\n",
        "    if sofa[i][4]=='Iris-virginica':\n",
        "      conf[2][2]+=1\n",
        "\n",
        "print(f\"Out of {conf[0][0]+conf[1][0]+conf[2][0]} classified as Iris-setosa {conf[0][0]} were correctly predicted\")\n",
        "print(f\"Out of {conf[0][1]+conf[1][1]+conf[2][1]} classified as Iris-versicolor {conf[1][1]} were correctly predicted\")\n",
        "print(f\"Out of {conf[0][2]+conf[1][2]+conf[2][2]} classified as Iris-virginica {conf[2][2]} were correctly predicted\")\n",
        "n = conf[0][0]+conf[1][1]+conf[2][2]\n",
        "print(f\"{n} were correctly classified out of {N}\")\n",
        "print(f\"Accuracy:{n*100/N}\")"
      ],
      "metadata": {
        "colab": {
          "base_uri": "https://localhost:8080/"
        },
        "id": "jcXNfzdFuSNH",
        "outputId": "a9651a9e-1721-476e-b9de-57805b96af96"
      },
      "execution_count": 18,
      "outputs": [
        {
          "output_type": "stream",
          "name": "stdout",
          "text": [
            "Out of 13.0 classified as Iris-setosa 13.0 were correctly predicted\n",
            "Out of 6.0 classified as Iris-versicolor 6.0 were correctly predicted\n",
            "Out of 19.0 classified as Iris-virginica 17.0 were correctly predicted\n",
            "36.0 were correctly classified out of 38\n",
            "Accuracy:94.73684210526316\n"
          ]
        }
      ]
    }
  ]
}