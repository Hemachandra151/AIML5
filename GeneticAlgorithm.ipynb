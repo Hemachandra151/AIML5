{
  "nbformat": 4,
  "nbformat_minor": 0,
  "metadata": {
    "colab": {
      "provenance": []
    },
    "kernelspec": {
      "name": "python3",
      "display_name": "Python 3"
    },
    "language_info": {
      "name": "python"
    }
  },
  "cells": [
    {
      "cell_type": "code",
      "execution_count": 37,
      "metadata": {
        "id": "OIqpKDjimYUy"
      },
      "outputs": [],
      "source": [
        "import random\n",
        "import numpy as np\n",
        "import copy"
      ]
    },
    {
      "cell_type": "markdown",
      "source": [
        "#Fitness Function"
      ],
      "metadata": {
        "id": "FJSs3hdNnM3q"
      }
    },
    {
      "cell_type": "code",
      "source": [
        "def f(x):\n",
        "    return x**2-8*x+20"
      ],
      "metadata": {
        "id": "mvqP7EYWmriR"
      },
      "execution_count": 38,
      "outputs": []
    },
    {
      "cell_type": "markdown",
      "source": [
        "#Initial Population"
      ],
      "metadata": {
        "id": "psEvUZ6AnRCI"
      }
    },
    {
      "cell_type": "code",
      "source": [
        "P = [[1,0,1],[1,0,0],[0,1,1],[1,1,0]]\n",
        "Fitness = [0,0,0,0]"
      ],
      "metadata": {
        "id": "8zwZvz5kmhm4"
      },
      "execution_count": 39,
      "outputs": []
    },
    {
      "cell_type": "markdown",
      "source": [
        "#Other Methods"
      ],
      "metadata": {
        "id": "7TxQqeKsna7M"
      }
    },
    {
      "cell_type": "code",
      "source": [
        "def binToDec(v):\n",
        "    return 4*v[0]+2*v[1]+v[2]\n",
        "\n",
        "def getFitness(P):\n",
        "    for i,v in enumerate(P):\n",
        "        x = binToDec(v)\n",
        "        Fitness[i] = f(x)"
      ],
      "metadata": {
        "id": "FX2P6t5Gmsty"
      },
      "execution_count": 40,
      "outputs": []
    },
    {
      "cell_type": "markdown",
      "source": [
        "#Genetic Algorithm"
      ],
      "metadata": {
        "id": "fSTnguqenive"
      }
    },
    {
      "cell_type": "code",
      "source": [
        "print(P)\n",
        "getFitness(P)\n",
        "while max(Fitness)<18:\n",
        "    Probf = [0,0,0,0]\n",
        "    for i in range(4):\n",
        "        Probf[i] = Fitness[i]/sum(Fitness)\n",
        "\n",
        "    #Selection\n",
        "    selection_indices = random.choices(range(len(P)), weights=Probf, k=2)\n",
        "    selection = [copy.deepcopy(P[i]) for i in selection_indices]\n",
        "\n",
        "    #Crossover\n",
        "    cp = random.randint(0,2)\n",
        "    crossover=[0,0,0]\n",
        "    for i in range(cp+1):\n",
        "        crossover[i]=selection[0][i]\n",
        "    while i<3:\n",
        "        crossover[i]=selection[1][i]\n",
        "        i+=1\n",
        "\n",
        "    #Mutation\n",
        "    mutation_indices = random.choices(range(len(P)), weights=Probf, k=1)\n",
        "    mutation = [copy.deepcopy(P[i]) for i in mutation_indices]\n",
        "    mbit = random.randint(0,2)\n",
        "    if mutation[0][mbit]==1:\n",
        "        mutation[0][mbit]=0\n",
        "    else:\n",
        "        mutation[0][mbit]=1\n",
        "\n",
        "    #Updation\n",
        "    P = [selection[0], selection[1], crossover, mutation[0]]\n",
        "\n",
        "    #Evaluation\n",
        "    getFitness(P)\n",
        "\n",
        "    print(P)"
      ],
      "metadata": {
        "colab": {
          "base_uri": "https://localhost:8080/"
        },
        "id": "0B_pdqfumyi1",
        "outputId": "7a347c01-ce8e-417a-9726-58e08ab5233a"
      },
      "execution_count": 41,
      "outputs": [
        {
          "output_type": "stream",
          "name": "stdout",
          "text": [
            "[[1, 0, 1], [1, 0, 0], [0, 1, 1], [1, 1, 0]]\n",
            "[[1, 0, 1], [1, 0, 0], [1, 0, 0], [1, 1, 1]]\n",
            "[[1, 0, 1], [1, 1, 1], [1, 1, 1], [1, 0, 1]]\n",
            "[[1, 1, 1], [1, 1, 1], [1, 1, 1], [1, 1, 0]]\n",
            "[[1, 1, 1], [1, 1, 1], [1, 1, 1], [0, 1, 1]]\n",
            "[[1, 1, 1], [1, 1, 1], [1, 1, 1], [1, 0, 1]]\n",
            "[[1, 1, 1], [1, 1, 1], [1, 1, 1], [1, 0, 1]]\n",
            "[[1, 1, 1], [1, 1, 1], [1, 1, 1], [1, 1, 1]]\n",
            "[[1, 1, 1], [1, 1, 1], [1, 1, 1], [1, 0, 1]]\n",
            "[[1, 1, 1], [1, 1, 1], [1, 1, 1], [0, 0, 1]]\n",
            "[[0, 0, 1], [0, 0, 1], [0, 0, 1], [0, 0, 0]]\n"
          ]
        }
      ]
    },
    {
      "cell_type": "markdown",
      "source": [
        "#Optimal Value of x"
      ],
      "metadata": {
        "id": "ML9z-WVKnmrJ"
      }
    },
    {
      "cell_type": "code",
      "source": [
        "index = np.argmax(Fitness)\n",
        "opt = binToDec(P[index])\n",
        "print(\"Optimal Value of x is \", opt)"
      ],
      "metadata": {
        "colab": {
          "base_uri": "https://localhost:8080/"
        },
        "id": "IRt99Ij1nFyS",
        "outputId": "de5cff5c-d331-461d-a036-566d0a891853"
      },
      "execution_count": 42,
      "outputs": [
        {
          "output_type": "stream",
          "name": "stdout",
          "text": [
            "Optimal Value of x is  0\n"
          ]
        }
      ]
    }
  ]
}